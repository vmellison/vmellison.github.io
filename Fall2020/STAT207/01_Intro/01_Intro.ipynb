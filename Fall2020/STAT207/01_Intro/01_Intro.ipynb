{
 "cells": [
  {
   "cell_type": "markdown",
   "metadata": {
    "slideshow": {
     "slide_type": "slide"
    }
   },
   "source": [
    "<!--# STAT 207: Data Science Exploration-->\n",
    "<img src=\"public_opinion.jpg\" width=\"400\" height=\"200\" align=\"left\"> <h1><b><u>Unit 1:</u> Introduction to Data and Python</b></h1>\n",
    "<h2><i><u>Case Study</u> : Pew Public Opinion Data</i></h2>\n",
    "\n",
    "We explore data from the Pew Research Center to illustrate statistical issues and data processing in Python. At this point it is not assumed that you are at all familar with Python. Instead, we will demonstrate some of the things you can do with it as a way to motivate going in more depth later. \n",
    "\n",
    "The Pew Research Center conducts regular national surveys on issues of national concern. We use data from the February 2017 political survey. The data are publically available from the Pew Research Center website: https://www.people-press.org/dataset/february-2017-political-survey/ Downloading requires that you register with Pew. \n",
    "\n",
    "<br><br><br><br><br><br><br><br><br><br>"
   ]
  },
  {
   "cell_type": "markdown",
   "metadata": {},
   "source": [
    "# Summary\n",
    "\n",
    "Using Pew Research center data we will see how to read in a comma separated file (and uncompress it if needed). Then we will investigate and visualize the data to understand the structure and gain some understanding of some of the categorical response items in the survey. \n",
    "<hr>"
   ]
  },
  {
   "cell_type": "markdown",
   "metadata": {
    "slideshow": {
     "slide_type": "subslide"
    }
   },
   "source": [
    "\n",
    "### Common Python Packages\n",
    "<img src=\"coding.png\" width=\"80\" height=\"40\" align=\"left\"> \n",
    "**import** to load packages <br>\n",
    "**pandas** : for dataframe manipulation/data represention functions <br>\n",
    "**zipfile**:  for loading data  <br>\n",
    "**matplotlib.pyplot**:  for visualizing data  <br>\n",
    "**seaborn**:  for visualizing data  <br>\n",
    "<hr>\n",
    "\n",
    "\n"
   ]
  },
  {
   "cell_type": "markdown",
   "metadata": {},
   "source": [
    "### General Data Analysis Preliminaries\n",
    "**Different ways to Represent Data in Python** <br>\n",
    "<img src=\"datarep.png\" width=\"80\" height=\"40\" align=\"left\"> <br>\n",
    "**data frames:** spreadsheet-like pandas objects with rows representing different observations and columns representing different variables for each observation <br>\n",
    "**.head( )**: visualizing just the first few rows of the dataset <br>\n",
    "<br><br>\n",
    "\n",
    "**Getting a rough idea what kind information is in the data frame  <br>\n",
    "<img src=\"descriptiveanalytics.png\" width=\"80\" height=\"40\" align=\"left\"> <br>\n",
    "YOUR_DATAFRAME.head( )**: what does the data in the datframe look like <br>\n",
    "**YOUR_DATAFRAME.shape**: how many rows (observations) and columns (variables) in the dateframe?<br>\n",
    "**YOUR_DATAFRAME.columns.values**: what variables are in the dataframe <br>\n",
    "<br>\n",
    "\n",
    "<hr>"
   ]
  },
  {
   "cell_type": "markdown",
   "metadata": {},
   "source": [
    "### Basic Descriptive Analytics for One or Two Categorical Variables\n",
    "#### <u>Summary Statistics</u>: Counts\n",
    "<img src=\"descriptiveanalytics.png\" width=\"80\" height=\"40\" align=\"left\"> <br>\n",
    "YOUR_DATAFRAME.value_counts( )** : how many of each type of level of a SINGLE categorical variable?  <br>\n",
    "**pd.crosstab()**: how many of each COMBINATION OF LEVELS from TWO OR MORE categorical variables?<br>\n",
    "<br><br>\n",
    "\n",
    "#### <u>Visualizations</u>: Barplots\n",
    "<img src=\"descriptiveanalytics.png\" width=\"80\" height=\"40\" align=\"left\"> <br>\n",
    "**sns.barplot ** : easy plotting for one categorical variable <br>\n",
    "**YOUR_DATAFRAME.plt.bar( )** :  easy plotting for 2 or more categorical variables  <br>\n",
    "<br>\n",
    "<hr>\n",
    "<br><br><br><br><br><br><br><br><br><br><br><br><br>"
   ]
  },
  {
   "cell_type": "markdown",
   "metadata": {},
   "source": [
    "# Analysis"
   ]
  },
  {
   "cell_type": "markdown",
   "metadata": {},
   "source": [
    "### Reading in the data from a csv file in a compressed folder <img src=\"datamanagement.png\" width=\"80\" height=\"40\" align=\"left\">\n",
    "\n",
    "To get started I created an account and downloaded a compressed zip file with the data. In order to extract and view the data we need to import two Python modules:\n",
    "<br><br>\n",
    "+ **pandas** - Python package for reading and processing flat data files\n",
    "+ **zipfile** - Python package for extracting compressed files\n",
    "\n",
    "We'll be using **pandas** over and over throughout the course. We only need **zipfile** if we are dealing with compressed files, otherwise we don't need it.\n"
   ]
  },
  {
   "cell_type": "code",
   "execution_count": 1,
   "metadata": {
    "slideshow": {
     "slide_type": "slide"
    }
   },
   "outputs": [],
   "source": [
    "# main package for data frame structures and functions\n",
    "import pandas as pd \n",
    "#\n",
    "# package needed to read data from a zip compressed file\n",
    "import zipfile as zp  "
   ]
  },
  {
   "cell_type": "markdown",
   "metadata": {
    "slideshow": {
     "slide_type": "subslide"
    }
   },
   "source": [
    "I put the zip file in a folder called \"data\" parallel with the current folder for these lecture notes. Let's read the file into a zipfile object and open the \".csv\" file. CSV stands for \"comma separated variables\". Then we can use the pandas \"read_csv\" function to read the file into a pandas data frame (df). The \"../\" part of the path says to first move up to the parent folder that contains both the \"data\" folder and the folder containing this Jupyter notebook."
   ]
  },
  {
   "cell_type": "code",
   "execution_count": 2,
   "metadata": {
    "slideshow": {
     "slide_type": "subslide"
    }
   },
   "outputs": [],
   "source": [
    "# read zip file into python object\n",
    "zf = zp.ZipFile('../data/Feb17-public.zip')\n",
    "#\n",
    "# extract data file and read into a data frame\n",
    "df = pd.read_csv(zf.open('Feb17public.csv'))"
   ]
  },
  {
   "cell_type": "markdown",
   "metadata": {
    "slideshow": {
     "slide_type": "subslide"
    }
   },
   "source": [
    "Note: this example is complicated by the extraction from a zip file. If we simply had an uncompressed csv file exported from Excel, for example, we would have read the data simply as:\n",
    "\n",
    "> df = pd.read_csv('../data/Feb17public.csv')\n"
   ]
  },
  {
   "cell_type": "markdown",
   "metadata": {},
   "source": [
    "### Getting an idea of what's in the data"
   ]
  },
  {
   "cell_type": "markdown",
   "metadata": {
    "slideshow": {
     "slide_type": "slide"
    }
   },
   "source": [
    "What can we find out about this data file? We can see the first few lines of data using the **head** function. Because there are so many columns, some of the middle columns are skipped. "
   ]
  },
  {
   "cell_type": "code",
   "execution_count": 3,
   "metadata": {
    "scrolled": true,
    "slideshow": {
     "slide_type": "subslide"
    }
   },
   "outputs": [
    {
     "data": {
      "text/html": [
       "<div>\n",
       "<style scoped>\n",
       "    .dataframe tbody tr th:only-of-type {\n",
       "        vertical-align: middle;\n",
       "    }\n",
       "\n",
       "    .dataframe tbody tr th {\n",
       "        vertical-align: top;\n",
       "    }\n",
       "\n",
       "    .dataframe thead th {\n",
       "        text-align: right;\n",
       "    }\n",
       "</style>\n",
       "<table border=\"1\" class=\"dataframe\">\n",
       "  <thead>\n",
       "    <tr style=\"text-align: right;\">\n",
       "      <th></th>\n",
       "      <th>psraid</th>\n",
       "      <th>sample</th>\n",
       "      <th>int_date</th>\n",
       "      <th>fcall</th>\n",
       "      <th>version</th>\n",
       "      <th>attempts</th>\n",
       "      <th>refusal</th>\n",
       "      <th>ilang</th>\n",
       "      <th>cregion</th>\n",
       "      <th>state</th>\n",
       "      <th>...</th>\n",
       "      <th>ql1a</th>\n",
       "      <th>qc1</th>\n",
       "      <th>money2</th>\n",
       "      <th>money3</th>\n",
       "      <th>iphoneuse</th>\n",
       "      <th>hphoneuse</th>\n",
       "      <th>ll</th>\n",
       "      <th>cp</th>\n",
       "      <th>cellweight</th>\n",
       "      <th>weight</th>\n",
       "    </tr>\n",
       "  </thead>\n",
       "  <tbody>\n",
       "    <tr>\n",
       "      <td>0</td>\n",
       "      <td>100008</td>\n",
       "      <td>Landline</td>\n",
       "      <td>21017</td>\n",
       "      <td>170207</td>\n",
       "      <td>Client changes</td>\n",
       "      <td>4</td>\n",
       "      <td>No</td>\n",
       "      <td>English</td>\n",
       "      <td>Midwest</td>\n",
       "      <td>Illinois</td>\n",
       "      <td>...</td>\n",
       "      <td>NaN</td>\n",
       "      <td>NaN</td>\n",
       "      <td>NaN</td>\n",
       "      <td>NaN</td>\n",
       "      <td>Dual</td>\n",
       "      <td>Dual HH</td>\n",
       "      <td>1</td>\n",
       "      <td>1</td>\n",
       "      <td>NaN</td>\n",
       "      <td>1.733333</td>\n",
       "    </tr>\n",
       "    <tr>\n",
       "      <td>1</td>\n",
       "      <td>100019</td>\n",
       "      <td>Landline</td>\n",
       "      <td>21217</td>\n",
       "      <td>170207</td>\n",
       "      <td>Client changes</td>\n",
       "      <td>4</td>\n",
       "      <td>Yes</td>\n",
       "      <td>English</td>\n",
       "      <td>South</td>\n",
       "      <td>North Carolina</td>\n",
       "      <td>...</td>\n",
       "      <td>NaN</td>\n",
       "      <td>NaN</td>\n",
       "      <td>NaN</td>\n",
       "      <td>NaN</td>\n",
       "      <td>Dual</td>\n",
       "      <td>Dual HH</td>\n",
       "      <td>1</td>\n",
       "      <td>1</td>\n",
       "      <td>NaN</td>\n",
       "      <td>1.500000</td>\n",
       "    </tr>\n",
       "    <tr>\n",
       "      <td>2</td>\n",
       "      <td>100020</td>\n",
       "      <td>Landline</td>\n",
       "      <td>21217</td>\n",
       "      <td>170207</td>\n",
       "      <td>Client changes</td>\n",
       "      <td>4</td>\n",
       "      <td>Yes</td>\n",
       "      <td>English</td>\n",
       "      <td>Northeast</td>\n",
       "      <td>New York</td>\n",
       "      <td>...</td>\n",
       "      <td>NaN</td>\n",
       "      <td>NaN</td>\n",
       "      <td>NaN</td>\n",
       "      <td>NaN</td>\n",
       "      <td>Dual</td>\n",
       "      <td>Dual HH</td>\n",
       "      <td>1</td>\n",
       "      <td>1</td>\n",
       "      <td>NaN</td>\n",
       "      <td>1.533333</td>\n",
       "    </tr>\n",
       "    <tr>\n",
       "      <td>3</td>\n",
       "      <td>100021</td>\n",
       "      <td>Landline</td>\n",
       "      <td>20717</td>\n",
       "      <td>170207</td>\n",
       "      <td>Initial version</td>\n",
       "      <td>1</td>\n",
       "      <td>No</td>\n",
       "      <td>English</td>\n",
       "      <td>Midwest</td>\n",
       "      <td>Minnesota</td>\n",
       "      <td>...</td>\n",
       "      <td>NaN</td>\n",
       "      <td>NaN</td>\n",
       "      <td>NaN</td>\n",
       "      <td>NaN</td>\n",
       "      <td>Dual</td>\n",
       "      <td>Dual HH</td>\n",
       "      <td>1</td>\n",
       "      <td>1</td>\n",
       "      <td>NaN</td>\n",
       "      <td>5.866667</td>\n",
       "    </tr>\n",
       "    <tr>\n",
       "      <td>4</td>\n",
       "      <td>100024</td>\n",
       "      <td>Landline</td>\n",
       "      <td>20717</td>\n",
       "      <td>170207</td>\n",
       "      <td>Initial version</td>\n",
       "      <td>1</td>\n",
       "      <td>No</td>\n",
       "      <td>English</td>\n",
       "      <td>Midwest</td>\n",
       "      <td>Illinois</td>\n",
       "      <td>...</td>\n",
       "      <td>NaN</td>\n",
       "      <td>NaN</td>\n",
       "      <td>NaN</td>\n",
       "      <td>NaN</td>\n",
       "      <td>Dual</td>\n",
       "      <td>Dual HH</td>\n",
       "      <td>1</td>\n",
       "      <td>1</td>\n",
       "      <td>NaN</td>\n",
       "      <td>1.700000</td>\n",
       "    </tr>\n",
       "  </tbody>\n",
       "</table>\n",
       "<p>5 rows × 130 columns</p>\n",
       "</div>"
      ],
      "text/plain": [
       "   psraid    sample  int_date   fcall          version  attempts refusal  \\\n",
       "0  100008  Landline     21017  170207   Client changes         4      No   \n",
       "1  100019  Landline     21217  170207   Client changes         4     Yes   \n",
       "2  100020  Landline     21217  170207   Client changes         4     Yes   \n",
       "3  100021  Landline     20717  170207  Initial version         1      No   \n",
       "4  100024  Landline     20717  170207  Initial version         1      No   \n",
       "\n",
       "     ilang    cregion           state  ... ql1a  qc1 money2  money3 iphoneuse  \\\n",
       "0  English    Midwest        Illinois  ...  NaN  NaN    NaN     NaN      Dual   \n",
       "1  English      South  North Carolina  ...  NaN  NaN    NaN     NaN      Dual   \n",
       "2  English  Northeast        New York  ...  NaN  NaN    NaN     NaN      Dual   \n",
       "3  English    Midwest       Minnesota  ...  NaN  NaN    NaN     NaN      Dual   \n",
       "4  English    Midwest        Illinois  ...  NaN  NaN    NaN     NaN      Dual   \n",
       "\n",
       "  hphoneuse ll cp cellweight    weight  \n",
       "0   Dual HH  1  1        NaN  1.733333  \n",
       "1   Dual HH  1  1        NaN  1.500000  \n",
       "2   Dual HH  1  1        NaN  1.533333  \n",
       "3   Dual HH  1  1        NaN  5.866667  \n",
       "4   Dual HH  1  1        NaN  1.700000  \n",
       "\n",
       "[5 rows x 130 columns]"
      ]
     },
     "execution_count": 3,
     "metadata": {},
     "output_type": "execute_result"
    }
   ],
   "source": [
    "df.head()"
   ]
  },
  {
   "cell_type": "markdown",
   "metadata": {
    "slideshow": {
     "slide_type": "slide"
    }
   },
   "source": [
    "What are all the variables in the data frame? We can extract this information using pandas as well."
   ]
  },
  {
   "cell_type": "code",
   "execution_count": 4,
   "metadata": {
    "slideshow": {
     "slide_type": "subslide"
    }
   },
   "outputs": [
    {
     "name": "stdout",
     "output_type": "stream",
     "text": [
      "['psraid' 'sample' 'int_date' 'fcall' 'version' 'attempts' 'refusal'\n",
      " 'ilang' 'cregion' 'state' 'density' 'sstate' 'form' 'stimes' 'igender'\n",
      " 'irace' 'llitext0' 'susr' 'usr' 'scregion' 'qs1' 'q1' 'q1a' 'q2' 'q5af1'\n",
      " 'q5bf1' 'q5cf1' 'q5df1' 'q6af2' 'q6bf2' 'q6cf2' 'q6df2' 'q10a' 'q10b'\n",
      " 'q15af1' 'q15b' 'q15cf2' 'q15df1' 'q15ef1' 'q15ff1' 'q15gf2' 'q15hf2'\n",
      " 'q15if2' 'q16' 'q19' 'q35' 'q36' 'q37' 'q39' 'q43' 'q44' 'q45' 'q45vb'\n",
      " 'Q45VB0' 'Q45VB1' 'Q45VB2' 'q45oem1' 'q45oem2' 'q45oem3' 'q52' 'q53'\n",
      " 'q54' 'q55' 'q61a' 'q61b' 'q61c' 'q61d' 'q61e' 'q62f1' 'q63f1' 'q64f2'\n",
      " 'q65' 'q66' 'q68f1' 'q69f2' 'q70f1' 'q71f2' 'q74' 'q75' 'q81' 'q82'\n",
      " 'q84a' 'q84bf1' 'q84cf1' 'q84df1' 'q84ef2' 'q84ff2' 'q84gf2' 'q88'\n",
      " 'q90f1' 'q91f2' 'sex' 'age' 'gen5' 'educ2' 'hisp' 'adults' 'racethn'\n",
      " 'racethn2' 'birth_hisp' 'citizen' 'child' 'relig' 'chr' 'born' 'attend'\n",
      " 'q92' 'q92a' 'income' 'reg' 'party' 'partyln' 'partysum' 'partyideo'\n",
      " 'q93' 'q94' 'ideo' 'hh1' 'hh3' 'ql1' 'ql1a' 'qc1' 'money2' 'money3'\n",
      " 'iphoneuse' 'hphoneuse' 'll' 'cp' 'cellweight' 'weight']\n"
     ]
    }
   ],
   "source": [
    "print(df.columns.values)"
   ]
  },
  {
   "cell_type": "markdown",
   "metadata": {
    "slideshow": {
     "slide_type": "slide"
    }
   },
   "source": [
    "How many rows and columns are there in the data frame? the **shape** attribute gives us this information."
   ]
  },
  {
   "cell_type": "code",
   "execution_count": 5,
   "metadata": {
    "slideshow": {
     "slide_type": "subslide"
    }
   },
   "outputs": [
    {
     "data": {
      "text/plain": [
       "(1503, 130)"
      ]
     },
     "execution_count": 5,
     "metadata": {},
     "output_type": "execute_result"
    }
   ],
   "source": [
    "df.shape"
   ]
  },
  {
   "cell_type": "markdown",
   "metadata": {
    "slideshow": {
     "slide_type": "slide"
    }
   },
   "source": [
    "Looking through the variable names we see a variable called 'sample' and the first few values are 'Landline'. We can get counts of the different values for this variable using the pandas function **.value_counts( )**"
   ]
  },
  {
   "cell_type": "code",
   "execution_count": 6,
   "metadata": {
    "slideshow": {
     "slide_type": "subslide"
    }
   },
   "outputs": [
    {
     "data": {
      "text/plain": [
       "Cell        1126\n",
       "Landline     377\n",
       "Name: sample, dtype: int64"
      ]
     },
     "execution_count": 6,
     "metadata": {},
     "output_type": "execute_result"
    }
   ],
   "source": [
    "df['sample'].value_counts()"
   ]
  },
  {
   "cell_type": "code",
   "execution_count": 7,
   "metadata": {
    "slideshow": {
     "slide_type": "subslide"
    }
   },
   "outputs": [
    {
     "data": {
      "text/plain": [
       "(1503,)"
      ]
     },
     "execution_count": 7,
     "metadata": {},
     "output_type": "execute_result"
    }
   ],
   "source": [
    "df['sample'].shape"
   ]
  },
  {
   "cell_type": "markdown",
   "metadata": {},
   "source": [
    "The row labels for this spreadsheet structure are in the \"index\" accessible as follows:"
   ]
  },
  {
   "cell_type": "code",
   "execution_count": 8,
   "metadata": {
    "slideshow": {
     "slide_type": "subslide"
    }
   },
   "outputs": [
    {
     "data": {
      "text/plain": [
       "RangeIndex(start=0, stop=1503, step=1)"
      ]
     },
     "execution_count": 8,
     "metadata": {},
     "output_type": "execute_result"
    }
   ],
   "source": [
    "df.index"
   ]
  },
  {
   "cell_type": "markdown",
   "metadata": {},
   "source": [
    "Similarly, the column labels are accessed as:"
   ]
  },
  {
   "cell_type": "code",
   "execution_count": 9,
   "metadata": {},
   "outputs": [
    {
     "data": {
      "text/plain": [
       "Index(['psraid', 'sample', 'int_date', 'fcall', 'version', 'attempts',\n",
       "       'refusal', 'ilang', 'cregion', 'state',\n",
       "       ...\n",
       "       'ql1a', 'qc1', 'money2', 'money3', 'iphoneuse', 'hphoneuse', 'll', 'cp',\n",
       "       'cellweight', 'weight'],\n",
       "      dtype='object', length=130)"
      ]
     },
     "execution_count": 9,
     "metadata": {},
     "output_type": "execute_result"
    }
   ],
   "source": [
    "df.columns"
   ]
  },
  {
   "cell_type": "markdown",
   "metadata": {},
   "source": [
    "### Visualizing categorical variables using barplots"
   ]
  },
  {
   "cell_type": "markdown",
   "metadata": {
    "slideshow": {
     "slide_type": "slide"
    }
   },
   "source": [
    "In order to visualize the data we import two graphics modules that will be used frequently throughout the course:\n",
    "\n",
    "+ **matplotlib.pyplot** - Basic python graphics functions\n",
    "+ **seaborn** - Enhanced graphics functions with additional styles and capabilities\n"
   ]
  },
  {
   "cell_type": "code",
   "execution_count": 10,
   "metadata": {
    "slideshow": {
     "slide_type": "subslide"
    }
   },
   "outputs": [],
   "source": [
    "import matplotlib.pyplot as plt   # basic graphing package\n",
    "import seaborn as sns; sns.set()  # enhanced graphing package"
   ]
  },
  {
   "cell_type": "code",
   "execution_count": 11,
   "metadata": {
    "scrolled": true,
    "slideshow": {
     "slide_type": "slide"
    }
   },
   "outputs": [
    {
     "data": {
      "text/plain": [
       "(2,)"
      ]
     },
     "metadata": {},
     "output_type": "display_data"
    },
    {
     "data": {
      "text/plain": [
       "Cell        1126\n",
       "Landline     377\n",
       "Name: sample, dtype: int64"
      ]
     },
     "metadata": {},
     "output_type": "display_data"
    }
   ],
   "source": [
    "counts = df['sample'].value_counts()\n",
    "display(counts.shape, counts)"
   ]
  },
  {
   "cell_type": "code",
   "execution_count": 12,
   "metadata": {},
   "outputs": [
    {
     "data": {
      "image/png": "[encoded data removed]",
      "text/plain": [
       "<Figure size 432x288 with 1 Axes>"
      ]
     },
     "metadata": {
      "needs_background": "light"
     },
     "output_type": "display_data"
    }
   ],
   "source": [
    "sns.barplot(x=counts.index, y=counts)\n",
    "plt.ylabel('Frequency')\n",
    "plt.show()"
   ]
  },
  {
   "cell_type": "markdown",
   "metadata": {
    "slideshow": {
     "slide_type": "slide"
    }
   },
   "source": [
    "What is the regional distribution of respondants to the survey? There's a variable called 'cregion'. Let's investigate."
   ]
  },
  {
   "cell_type": "code",
   "execution_count": 13,
   "metadata": {
    "slideshow": {
     "slide_type": "subslide"
    }
   },
   "outputs": [
    {
     "data": {
      "image/png": "[encoded data removed]",
      "text/plain": [
       "<Figure size 432x288 with 1 Axes>"
      ]
     },
     "metadata": {
      "needs_background": "light"
     },
     "output_type": "display_data"
    }
   ],
   "source": [
    "temp = df['cregion'].value_counts()\n",
    "sns.barplot(x=temp.index, y=temp)\n",
    "plt.show()"
   ]
  },
  {
   "cell_type": "markdown",
   "metadata": {
    "slideshow": {
     "slide_type": "slide"
    }
   },
   "source": [
    "How do the relative frequencies of cell phone and landline respondents vary across regions? Let's look at the **cross-tabulation** of the two variables. "
   ]
  },
  {
   "cell_type": "code",
   "execution_count": 14,
   "metadata": {
    "scrolled": true,
    "slideshow": {
     "slide_type": "subslide"
    }
   },
   "outputs": [
    {
     "data": {
      "text/html": [
       "<div>\n",
       "<style scoped>\n",
       "    .dataframe tbody tr th:only-of-type {\n",
       "        vertical-align: middle;\n",
       "    }\n",
       "\n",
       "    .dataframe tbody tr th {\n",
       "        vertical-align: top;\n",
       "    }\n",
       "\n",
       "    .dataframe thead th {\n",
       "        text-align: right;\n",
       "    }\n",
       "</style>\n",
       "<table border=\"1\" class=\"dataframe\">\n",
       "  <thead>\n",
       "    <tr style=\"text-align: right;\">\n",
       "      <th>sample</th>\n",
       "      <th>Cell</th>\n",
       "      <th>Landline</th>\n",
       "    </tr>\n",
       "    <tr>\n",
       "      <th>cregion</th>\n",
       "      <th></th>\n",
       "      <th></th>\n",
       "    </tr>\n",
       "  </thead>\n",
       "  <tbody>\n",
       "    <tr>\n",
       "      <td>Midwest</td>\n",
       "      <td>244</td>\n",
       "      <td>80</td>\n",
       "    </tr>\n",
       "    <tr>\n",
       "      <td>Northeast</td>\n",
       "      <td>195</td>\n",
       "      <td>80</td>\n",
       "    </tr>\n",
       "    <tr>\n",
       "      <td>South</td>\n",
       "      <td>415</td>\n",
       "      <td>132</td>\n",
       "    </tr>\n",
       "    <tr>\n",
       "      <td>West</td>\n",
       "      <td>272</td>\n",
       "      <td>85</td>\n",
       "    </tr>\n",
       "  </tbody>\n",
       "</table>\n",
       "</div>"
      ],
      "text/plain": [
       "sample     Cell  Landline\n",
       "cregion                  \n",
       "Midwest     244        80\n",
       "Northeast   195        80\n",
       "South       415       132\n",
       "West        272        85"
      ]
     },
     "execution_count": 14,
     "metadata": {},
     "output_type": "execute_result"
    }
   ],
   "source": [
    "pd.crosstab(df['cregion'], df['sample'])"
   ]
  },
  {
   "cell_type": "markdown",
   "metadata": {
    "slideshow": {
     "slide_type": "slide"
    }
   },
   "source": [
    "Those are the raw counts. Let's convert to row proportions to better compare across regions. Note that \"index\" here refers to rows. We devide each row by the row total to normalize it. If we wanted to normalize by columns we'd pass \"columns\" instead of \"index\" for the normalization."
   ]
  },
  {
   "cell_type": "code",
   "execution_count": 15,
   "metadata": {
    "slideshow": {
     "slide_type": "subslide"
    }
   },
   "outputs": [
    {
     "data": {
      "text/html": [
       "<div>\n",
       "<style scoped>\n",
       "    .dataframe tbody tr th:only-of-type {\n",
       "        vertical-align: middle;\n",
       "    }\n",
       "\n",
       "    .dataframe tbody tr th {\n",
       "        vertical-align: top;\n",
       "    }\n",
       "\n",
       "    .dataframe thead th {\n",
       "        text-align: right;\n",
       "    }\n",
       "</style>\n",
       "<table border=\"1\" class=\"dataframe\">\n",
       "  <thead>\n",
       "    <tr style=\"text-align: right;\">\n",
       "      <th>sample</th>\n",
       "      <th>Cell</th>\n",
       "      <th>Landline</th>\n",
       "    </tr>\n",
       "    <tr>\n",
       "      <th>cregion</th>\n",
       "      <th></th>\n",
       "      <th></th>\n",
       "    </tr>\n",
       "  </thead>\n",
       "  <tbody>\n",
       "    <tr>\n",
       "      <td>Midwest</td>\n",
       "      <td>0.753086</td>\n",
       "      <td>0.246914</td>\n",
       "    </tr>\n",
       "    <tr>\n",
       "      <td>Northeast</td>\n",
       "      <td>0.709091</td>\n",
       "      <td>0.290909</td>\n",
       "    </tr>\n",
       "    <tr>\n",
       "      <td>South</td>\n",
       "      <td>0.758684</td>\n",
       "      <td>0.241316</td>\n",
       "    </tr>\n",
       "    <tr>\n",
       "      <td>West</td>\n",
       "      <td>0.761905</td>\n",
       "      <td>0.238095</td>\n",
       "    </tr>\n",
       "  </tbody>\n",
       "</table>\n",
       "</div>"
      ],
      "text/plain": [
       "sample         Cell  Landline\n",
       "cregion                      \n",
       "Midwest    0.753086  0.246914\n",
       "Northeast  0.709091  0.290909\n",
       "South      0.758684  0.241316\n",
       "West       0.761905  0.238095"
      ]
     },
     "execution_count": 15,
     "metadata": {},
     "output_type": "execute_result"
    }
   ],
   "source": [
    "pd.crosstab(df['cregion'], df['sample'], normalize='index')"
   ]
  },
  {
   "cell_type": "code",
   "execution_count": 16,
   "metadata": {
    "slideshow": {
     "slide_type": "subslide"
    }
   },
   "outputs": [
    {
     "data": {
      "image/png": "[encoded data removed]",
      "text/plain": [
       "<Figure size 432x288 with 1 Axes>"
      ]
     },
     "metadata": {
      "needs_background": "light"
     },
     "output_type": "display_data"
    }
   ],
   "source": [
    "# graph the normalized crosstabs\n",
    "temp = pd.crosstab(df['cregion'], df['sample'], normalize='index')\n",
    "sns.barplot(x=temp.index, y=\"Cell\", data=temp)\n",
    "plt.ylabel(\"Proportion Cell Phones\")\n",
    "plt.show()"
   ]
  },
  {
   "cell_type": "markdown",
   "metadata": {},
   "source": [
    "Why did this work? Here are the row (index) and column names for the crosstab object we just created. "
   ]
  },
  {
   "cell_type": "code",
   "execution_count": 17,
   "metadata": {},
   "outputs": [
    {
     "data": {
      "text/plain": [
       "Index(['Midwest', 'Northeast', 'South', 'West'], dtype='object', name='cregion')"
      ]
     },
     "metadata": {},
     "output_type": "display_data"
    },
    {
     "data": {
      "text/plain": [
       "Index(['Cell', 'Landline'], dtype='object', name='sample')"
      ]
     },
     "metadata": {},
     "output_type": "display_data"
    }
   ],
   "source": [
    "display(temp.index, temp.columns)"
   ]
  },
  {
   "cell_type": "markdown",
   "metadata": {},
   "source": [
    "We only needed the first column - \"Cell\", which is equivalent to \n",
    "\n",
    "    temp['Cell'] \n",
    "\n",
    "as follows."
   ]
  },
  {
   "cell_type": "code",
   "execution_count": 18,
   "metadata": {},
   "outputs": [
    {
     "data": {
      "text/plain": [
       "cregion\n",
       "Midwest      0.753086\n",
       "Northeast    0.709091\n",
       "South        0.758684\n",
       "West         0.761905\n",
       "Name: Cell, dtype: float64"
      ]
     },
     "execution_count": 18,
     "metadata": {},
     "output_type": "execute_result"
    }
   ],
   "source": [
    "temp['Cell']"
   ]
  },
  {
   "cell_type": "markdown",
   "metadata": {},
   "source": [
    "#### Side-by-side bar plots\n",
    "\n",
    "Here's a way, using pandas, to see the proportions of both cell phones and landline across regions."
   ]
  },
  {
   "cell_type": "code",
   "execution_count": 19,
   "metadata": {},
   "outputs": [
    {
     "data": {
      "image/png": "[encoded data removed]",
      "text/plain": [
       "<Figure size 432x288 with 1 Axes>"
      ]
     },
     "metadata": {
      "needs_background": "light"
     },
     "output_type": "display_data"
    }
   ],
   "source": [
    "temp.plot.bar()\n",
    "plt.legend(loc='upper right')\n",
    "plt.ylim([0,1])\n",
    "plt.show()"
   ]
  },
  {
   "cell_type": "markdown",
   "metadata": {},
   "source": [
    "**Remark on order of variables:** If we had reversed the order of variables in the crosstab, the resulting data frame is transposed. Rows become columns and vice versa. We would then get a different presentation, showing the regional distribution within cell phone and landline users."
   ]
  },
  {
   "cell_type": "code",
   "execution_count": 20,
   "metadata": {},
   "outputs": [
    {
     "data": {
      "text/html": [
       "<div>\n",
       "<style scoped>\n",
       "    .dataframe tbody tr th:only-of-type {\n",
       "        vertical-align: middle;\n",
       "    }\n",
       "\n",
       "    .dataframe tbody tr th {\n",
       "        vertical-align: top;\n",
       "    }\n",
       "\n",
       "    .dataframe thead th {\n",
       "        text-align: right;\n",
       "    }\n",
       "</style>\n",
       "<table border=\"1\" class=\"dataframe\">\n",
       "  <thead>\n",
       "    <tr style=\"text-align: right;\">\n",
       "      <th>cregion</th>\n",
       "      <th>Midwest</th>\n",
       "      <th>Northeast</th>\n",
       "      <th>South</th>\n",
       "      <th>West</th>\n",
       "    </tr>\n",
       "    <tr>\n",
       "      <th>sample</th>\n",
       "      <th></th>\n",
       "      <th></th>\n",
       "      <th></th>\n",
       "      <th></th>\n",
       "    </tr>\n",
       "  </thead>\n",
       "  <tbody>\n",
       "    <tr>\n",
       "      <td>Cell</td>\n",
       "      <td>0.216696</td>\n",
       "      <td>0.173179</td>\n",
       "      <td>0.368561</td>\n",
       "      <td>0.241563</td>\n",
       "    </tr>\n",
       "    <tr>\n",
       "      <td>Landline</td>\n",
       "      <td>0.212202</td>\n",
       "      <td>0.212202</td>\n",
       "      <td>0.350133</td>\n",
       "      <td>0.225464</td>\n",
       "    </tr>\n",
       "  </tbody>\n",
       "</table>\n",
       "</div>"
      ],
      "text/plain": [
       "cregion    Midwest  Northeast     South      West\n",
       "sample                                           \n",
       "Cell      0.216696   0.173179  0.368561  0.241563\n",
       "Landline  0.212202   0.212202  0.350133  0.225464"
      ]
     },
     "execution_count": 20,
     "metadata": {},
     "output_type": "execute_result"
    }
   ],
   "source": [
    "temp2 = pd.crosstab(df['sample'], df['cregion'], normalize='index')\n",
    "temp2"
   ]
  },
  {
   "cell_type": "code",
   "execution_count": 21,
   "metadata": {},
   "outputs": [
    {
     "data": {
      "image/png": "[encoded data removed]",
      "text/plain": [
       "<Figure size 432x288 with 1 Axes>"
      ]
     },
     "metadata": {
      "needs_background": "light"
     },
     "output_type": "display_data"
    }
   ],
   "source": [
    "temp2.plot.bar()\n",
    "plt.legend(loc=\"upper center\")\n",
    "plt.show()"
   ]
  },
  {
   "cell_type": "markdown",
   "metadata": {
    "slideshow": {
     "slide_type": "slide"
    }
   },
   "source": [
    "### Let's explore other variables!\n",
    "\n",
    "Many of the columns in this data set are labeled by question number. To know what those are we have to look up the questions in a summary file included in the download. Here are two of the questions asked:\n",
    "\n",
    "+ q1 - Do you approve or disapprove of the way Donald Trump is handling his job as President?\n",
    "+ q52 - All in all, would you favor or oppose building a wall along the entire border with Mexico?\n",
    "\n",
    "Use the methods we have seen so far to investigate the responses to these questions, and how they relate to each other or to geographic regions."
   ]
  },
  {
   "cell_type": "code",
   "execution_count": null,
   "metadata": {
    "slideshow": {
     "slide_type": "subslide"
    }
   },
   "outputs": [],
   "source": []
  },
  {
   "cell_type": "code",
   "execution_count": null,
   "metadata": {
    "slideshow": {
     "slide_type": "subslide"
    }
   },
   "outputs": [],
   "source": []
  },
  {
   "cell_type": "code",
   "execution_count": null,
   "metadata": {},
   "outputs": [],
   "source": []
  },
  {
   "cell_type": "code",
   "execution_count": null,
   "metadata": {},
   "outputs": [],
   "source": []
  },
  {
   "cell_type": "markdown",
   "metadata": {
    "slideshow": {
     "slide_type": "slide"
    }
   },
   "source": [
    "### Caution \n",
    "\n",
    "To properly interpret results from the data we need to understand better how they were collected. Then we can better discuss the following questions:\n",
    "\n",
    "+ Based on how they were sampled, are the data representative of the general adult population?\n",
    "\n",
    "+ Are associations we find in the data causal? or are they merely associations?\n"
   ]
  },
  {
   "cell_type": "markdown",
   "metadata": {
    "slideshow": {
     "slide_type": "subslide"
    }
   },
   "source": [
    "---\n",
    "STAT 207, Douglas Simpson, University of Illinois at Urbana-Champaign"
   ]
  }
 ],
 "metadata": {
  "kernelspec": {
   "display_name": "Python 3",
   "language": "python",
   "name": "python3"
  },
  "language_info": {
   "codemirror_mode": {
    "name": "ipython",
    "version": 3
   },
   "file_extension": ".py",
   "mimetype": "text/x-python",
   "name": "python",
   "nbconvert_exporter": "python",
   "pygments_lexer": "ipython3",
   "version": "3.6.5"
  }
 },
 "nbformat": 4,
 "nbformat_minor": 2
}
